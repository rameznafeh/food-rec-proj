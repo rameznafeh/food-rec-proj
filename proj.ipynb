{
  "nbformat": 4,
  "nbformat_minor": 0,
  "metadata": {
    "colab": {
      "name": "proj.ipynb",
      "private_outputs": true,
      "provenance": [],
      "collapsed_sections": [],
      "include_colab_link": true
    },
    "kernelspec": {
      "name": "python3",
      "display_name": "Python 3"
    },
    "language_info": {
      "name": "python"
    }
  },
  "cells": [
    {
      "cell_type": "markdown",
      "metadata": {
        "id": "view-in-github",
        "colab_type": "text"
      },
      "source": [
        "<a href=\"https://colab.research.google.com/github/rameznafeh/food-rec-proj/blob/main/proj.ipynb\" target=\"_parent\"><img src=\"https://colab.research.google.com/assets/colab-badge.svg\" alt=\"Open In Colab\"/></a>"
      ]
    },
    {
      "cell_type": "markdown",
      "metadata": {
        "id": "cdgyR7NeI0sI"
      },
      "source": [
        "# Setup"
      ]
    },
    {
      "cell_type": "code",
      "metadata": {
        "id": "xGwesq6DcFIn"
      },
      "source": [
        "from google.colab import drive\n",
        "drive.mount('/content/drive')"
      ],
      "execution_count": null,
      "outputs": []
    },
    {
      "cell_type": "markdown",
      "metadata": {
        "id": "LO10_K0bBJZC"
      },
      "source": [
        "c"
      ]
    },
    {
      "cell_type": "code",
      "metadata": {
        "id": "c1pq46lRPuSs"
      },
      "source": [
        "#pip install ipynb\n",
        "#Create a Notebook named my_functions.ipynb\n",
        "#from ipynb.fs.full.my_functions import factorial"
      ],
      "execution_count": null,
      "outputs": []
    },
    {
      "cell_type": "code",
      "metadata": {
        "id": "_ovrfRiYEz07"
      },
      "source": [
        "# we using coco apiiiiiiiiiiiiiiiiiiiiiiiiiiiiiiiiiiiiiiiiiiiiiiiiiiiiiiiiiii\n",
        "\n",
        "%cd '/content/drive/MyDrive/food-rec-proj/'\n",
        " \n",
        "%pwd\n",
        "%matplotlib inline\n",
        "from pycocotools.coco import COCO\n",
        "import numpy as np\n",
        "import skimage.io as io\n",
        "import matplotlib.pyplot as plt\n",
        "import pylab\n",
        "pylab.rcParams['figure.figsize'] = (8.0, 10.0)\n",
        "\n",
        "from filter_cats import filtered_cats\n",
        "from myUtils import *\n",
        "from PIL import Image\n",
        "\n",
        "\n",
        "import utils\n",
        "import visualize\n",
        "import dataset\n",
        "import os\n",
        "\n",
        "import sys\n",
        "import itertools\n",
        "import math\n",
        "import logging\n",
        "import json\n",
        "import re\n",
        "import random"
      ],
      "execution_count": null,
      "outputs": []
    },
    {
      "cell_type": "markdown",
      "metadata": {
        "id": "500xmR8kH7g3"
      },
      "source": [
        "# Dataset\n"
      ]
    },
    {
      "cell_type": "code",
      "metadata": {
        "id": "2YdM7KHiZpVB"
      },
      "source": [
        "%cd '/content/drive/MyDrive/food-rec-proj/data'\n",
        "\n",
        "dataset_train = dataset.FoodChallengeDataset()\n",
        "dataset_train.load_dataset(dataset_dir='train', load_small=False)\n",
        "dataset_train.prepare()\n",
        "dataset = dataset_train"
      ],
      "execution_count": null,
      "outputs": []
    },
    {
      "cell_type": "code",
      "metadata": {
        "id": "8eqfSP7zZths"
      },
      "source": [
        "print(\"Image Count: {}\".format(len(dataset_train.image_ids)))\n",
        "print(\"Class Count: {}\".format(dataset_train.num_classes))\n",
        "for i, info in enumerate(dataset_train.class_info):\n",
        "    print(\"{:3}. {:50}\".format(i, info['name']))"
      ],
      "execution_count": null,
      "outputs": []
    },
    {
      "cell_type": "code",
      "metadata": {
        "id": "Tvie6bOZZvw-"
      },
      "source": [
        "# visualize masks\n",
        "image_ids = np.random.choice(dataset.image_ids, 1)\n",
        "\n",
        "for image_id in image_ids:\n",
        "    image = dataset.load_image(image_id)\n",
        "    mask, class_ids = dataset.load_mask(image_id)\n",
        "    print(image.shape, mask.shape, class_ids, np.unique(mask))\n",
        "    print(to_categorical(np.unique(mask)))\n",
        "\n",
        "    visualize.display_top_masks(image, mask, class_ids, dataset.class_names)"
      ],
      "execution_count": null,
      "outputs": []
    },
    {
      "cell_type": "code",
      "metadata": {
        "id": "zOqE-1etZ70G"
      },
      "source": [
        "# Load random image and mask.\n",
        "image_id = random.choice(dataset.image_ids)\n",
        "image = dataset.load_image(image_id)\n",
        "mask, class_ids = dataset.load_mask(image_id)\n",
        "# Compute Bounding box\n",
        "bbox = utils.extract_bboxes(mask)\n",
        "\n",
        "# Display image and additional stats\n",
        "print(\"image_id \", image_id, dataset.image_reference(image_id))\n",
        "log(\"image\", image)\n",
        "log(\"mask\", mask)\n",
        "log(\"class_ids\", class_ids)\n",
        "log(\"bbox\", bbox)\n",
        "#Display image and instances\n",
        "visualize.display_instances(image, bbox, mask, class_ids, dataset.class_names)"
      ],
      "execution_count": null,
      "outputs": []
    },
    {
      "cell_type": "code",
      "metadata": {
        "id": "7sywhQ9lGsGc"
      },
      "source": [
        "#prepare input\n",
        "from tensorflow.keras.utils import to_categorical\n",
        "\n",
        "#load images \n",
        "NUM_IMAGES=5 #take a subset of train set \n",
        "image_ids = np.random.choice(dataset.image_ids, NUM_IMAGES)\n",
        "images=[]\n",
        "for image_id in image_ids:\n",
        "    images.append( dataset.load_image(image_id))\n",
        "    mask, class_ids = dataset.load_mask(image_id)\n",
        "images = np.array(images)\n",
        "\n",
        "#find smallest dimension to resize images to since keras needs fixed shape inputs\n",
        "SIZE = min( [min(img.shape[0], img.shape[1]) for img in images]) \n",
        "print('Size of images: {}x{} \\n'.format(SIZE,SIZE))\n",
        "\n",
        "old=[]\n",
        "for image in images:\n",
        "  old.append(image)\n",
        "  image = Image.fromarray(image, 'RGB') #conv to pillow Image\n",
        "  resized = image.resize((SIZE, SIZE)) #resize using pil\n",
        "  images_dataset.append(np.array(resized))\n",
        "\n",
        "fig = plt.figure(figsize=(15, 7))\n",
        "  \n",
        "rows = 2\n",
        "columns = 5 #len returns len - 1 !\n",
        "for i in range(1,columns+1) :\n",
        "  fig.add_subplot(2,5,i)\n",
        "  plt.title('old')\n",
        "  plt.imshow(old[i-1])\n",
        "\n",
        "  fig.add_subplot(2,5,i+5)\n",
        "  plt.title('resized')\n",
        "  plt.imshow(images_dataset[i-1])\n"
      ],
      "execution_count": null,
      "outputs": []
    },
    {
      "cell_type": "markdown",
      "metadata": {
        "id": "dxwnYWuEZnfA"
      },
      "source": [
        "# UNUSED"
      ]
    },
    {
      "cell_type": "code",
      "metadata": {
        "id": "25w84t5fKMOB"
      },
      "source": [
        "# #insert the path of the annotation file here\n",
        "# annFile='/content/drive/MyDrive/food-rec-proj/data/train/annotation.json' \n",
        "\n",
        "# # initialize COCO api for instance annotations\n",
        "# coco=COCO(annFile)"
      ],
      "execution_count": null,
      "outputs": []
    },
    {
      "cell_type": "code",
      "metadata": {
        "id": "nVadVCa10w-k"
      },
      "source": [
        "# top_ids, top_names, freq= most_annotated(coco,18)\n",
        "# print('{} {:<6} {:<25} {:>4}'.format('Nb','Ids:','Names:','Freq:' ))\n",
        "\n",
        "# for i in range(len(top_ids)):\n",
        "#   print('{:<4} {:<6} {:<24} {:>4}'.format(i, top_ids[i],top_names[i],freq[i]) )\n",
        "\n",
        "# del top_names[7]\n",
        "# del top_names[-1]\n",
        "\n",
        "# print(top_names)"
      ],
      "execution_count": null,
      "outputs": []
    },
    {
      "cell_type": "code",
      "metadata": {
        "id": "iKu8Icmzgn1h"
      },
      "source": [
        "# #extract img ids containing the top 16 categories \n",
        "# top_names=['water', 'bread-white', 'salad-leaf-salad-green', 'tomato', 'butter', \n",
        "#         'bread-wholemeal', 'carrot', 'rice', 'egg', 'mixed-vegetables', \n",
        "#         'wine-red', 'apple', 'jam', 'potatoes-steamed', 'banana', 'cheese']\n",
        "# cat_ids, cat_names, img_ids = filtered_cats(coco, top_names)\n",
        "# print(cat_ids)\n",
        "# print()\n",
        "\n",
        "# # imgs=coco.loadImgs(img_ids)\n",
        "\n",
        "# # for img_id in img_ids:\n",
        "# #   ann_id = coco.getAnnIds(img_id)\n",
        "# #   anns = coco.loadAnns(ann_id)\n",
        "# # ann_ids=coco.getAnnIds(img_ids[])\n",
        "# # print(len(ann_ids))\n"
      ],
      "execution_count": null,
      "outputs": []
    },
    {
      "cell_type": "code",
      "metadata": {
        "id": "TEsm-1cgN-9_"
      },
      "source": [
        "# # get all images containing given categories or 1 category:\n",
        "# catIds = coco.getCatIds('cookies');\n",
        "# print(catIds)\n",
        "\n",
        "# # get imgs of this cat\n",
        "# imgIds = coco.getImgIds(catIds=catIds );\n",
        "# print(imgIds)\n",
        "\n",
        "# # get this img with the given id (example)\n",
        "# imgIds = coco.getImgIds(imgIds = [50695])\n",
        "\n",
        "# print(imgIds)"
      ],
      "execution_count": null,
      "outputs": []
    },
    {
      "cell_type": "code",
      "metadata": {
        "id": "wzHQwF9-lDcY"
      },
      "source": [
        ""
      ],
      "execution_count": null,
      "outputs": []
    }
  ]
}